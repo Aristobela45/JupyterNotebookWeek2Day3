{
 "cells": [
  {
   "cell_type": "markdown",
   "metadata": {},
   "source": [
    "# Dictionaries & Sets"
   ]
  },
  {
   "cell_type": "markdown",
   "metadata": {},
   "source": [
    "## Tasks Today:\n",
    "\n",
    "1) Dictionary <br>\n",
    " &nbsp;&nbsp;&nbsp;&nbsp; a) Declaring (key, value) <br>\n",
    " &nbsp;&nbsp;&nbsp;&nbsp; b) Accessing Values <br>\n",
    " &nbsp;&nbsp;&nbsp;&nbsp; ------ Exercise #1 - Print the eye color of each person in a double nested dict <br>\n",
    " &nbsp;&nbsp;&nbsp;&nbsp; c) Adding New Pairs <br>\n",
    " &nbsp;&nbsp;&nbsp;&nbsp; d) Modifying Values <br>\n",
    " &nbsp;&nbsp;&nbsp;&nbsp; e) Removing Key, Value Pairs <br>\n",
    " &nbsp;&nbsp;&nbsp;&nbsp; f) Looping a Dictionary <br>\n",
    " &nbsp;&nbsp;&nbsp;&nbsp; g) Looping Only Keys <br>\n",
    " &nbsp;&nbsp;&nbsp;&nbsp; h) Looping Only Values <br>\n",
    " &nbsp;&nbsp;&nbsp;&nbsp; ------ Exercise #2 - Create a program\n",
    " that Prints All Key Value Pairs within a print .format()  <br>\n",
    " &nbsp;&nbsp;&nbsp;&nbsp; i) sorted() <br>\n",
    " &nbsp;&nbsp;&nbsp;&nbsp; j) Lists with Dictionaries <br>\n",
    " &nbsp;&nbsp;&nbsp;&nbsp; k) Dictionaries with Lists <br>\n",
    " &nbsp;&nbsp;&nbsp;&nbsp; l) Dictionaries with Dictionaries <br>\n",
    " &nbsp;&nbsp;&nbsp;&nbsp; ------ Exercise #3 - Write a Function that asks someone's name and address, and then stores that into a dictionary, which prints all names and addresses after they're done putting information in...  <br>\n",
    "2) Dictionaries vs. Lists (over time)<br>\n",
    "3) Set <br>\n",
    " &nbsp;&nbsp;&nbsp;&nbsp; a) Declaring <br>\n",
    " &nbsp;&nbsp;&nbsp;&nbsp; b) .add() <br>\n",
    " &nbsp;&nbsp;&nbsp;&nbsp; c) .remove() <br>\n",
    " &nbsp;&nbsp;&nbsp;&nbsp; d) .union() <br>\n",
    " &nbsp;&nbsp;&nbsp;&nbsp; e) .intersection() <br>\n",
    " &nbsp;&nbsp;&nbsp;&nbsp; f) .difference() <br>\n",
    " &nbsp;&nbsp;&nbsp;&nbsp; g) Frozen Set <br>\n",
    "4) Modules <br>\n",
    " &nbsp;&nbsp;&nbsp;&nbsp; a) Importing Entire Modules <br>\n",
    " &nbsp;&nbsp;&nbsp;&nbsp; b) Importing Methods Only <br>\n",
    " &nbsp;&nbsp;&nbsp;&nbsp; c) Using the 'as' Keyword <br>\n",
    " &nbsp;&nbsp;&nbsp;&nbsp; d) Creating a Module <br>\n",
    "5) Exercises <br>\n",
    " &nbsp;&nbsp;&nbsp;&nbsp; a) Build a Shopping Cart <br>\n",
    " &nbsp;&nbsp;&nbsp;&nbsp; b) Create Your Own Module <br>"
   ]
  },
  {
   "cell_type": "markdown",
   "metadata": {},
   "source": [
    "## Dictionary <br>\n",
    "<p>A collection of data with 'key:value' pairs. Dictionaries are ordered as of Python 3.6</p>"
   ]
  },
  {
   "cell_type": "markdown",
   "metadata": {},
   "source": [
    "##### Declaring (key, value)"
   ]
  },
  {
   "cell_type": "code",
   "execution_count": 3,
   "metadata": {},
   "outputs": [],
   "source": [
    "#key always need to be unique\n",
    "#can you use integers as key or strings as keys\n",
    "\n",
    "d_1 = {} #<----empty dictionary\n",
    "#or\n",
    "\n",
    "d_2 = dict()\n",
    "\n",
    "#or\n",
    "#non-empty dictionary\n",
    "d_3 = {\n",
    "    \"Tom\":\"255 main st\",\n",
    "        0: \"This is zero\"\n",
    "    \n",
    "}"
   ]
  },
  {
   "cell_type": "markdown",
   "metadata": {},
   "source": [
    "##### Accessing Values"
   ]
  },
  {
   "cell_type": "code",
   "execution_count": 10,
   "metadata": {},
   "outputs": [
    {
     "name": "stdout",
     "output_type": "stream",
     "text": [
      "255 main st\n"
     ]
    },
    {
     "ename": "KeyError",
     "evalue": "'Jerry'",
     "output_type": "error",
     "traceback": [
      "\u001b[1;31m---------------------------------------------------------------------------\u001b[0m",
      "\u001b[1;31mKeyError\u001b[0m                                  Traceback (most recent call last)",
      "\u001b[1;32m~\\AppData\\Local\\Temp\\ipykernel_20708\\1226009989.py\u001b[0m in \u001b[0;36m<module>\u001b[1;34m\u001b[0m\n\u001b[0;32m      1\u001b[0m \u001b[1;31m#dict = [key] - this will give back the value\u001b[0m\u001b[1;33m\u001b[0m\u001b[1;33m\u001b[0m\u001b[0m\n\u001b[0;32m      2\u001b[0m \u001b[0mprint\u001b[0m\u001b[1;33m(\u001b[0m\u001b[0md_3\u001b[0m\u001b[1;33m[\u001b[0m\u001b[1;34m\"Tom\"\u001b[0m\u001b[1;33m]\u001b[0m\u001b[1;33m)\u001b[0m\u001b[1;33m\u001b[0m\u001b[1;33m\u001b[0m\u001b[0m\n\u001b[1;32m----> 3\u001b[1;33m \u001b[0mprint\u001b[0m\u001b[1;33m(\u001b[0m\u001b[0md_3\u001b[0m\u001b[1;33m[\u001b[0m\u001b[1;34m\"Jerry\"\u001b[0m\u001b[1;33m]\u001b[0m\u001b[1;33m)\u001b[0m\u001b[1;33m\u001b[0m\u001b[1;33m\u001b[0m\u001b[0m\n\u001b[0m\u001b[0;32m      4\u001b[0m \u001b[0mprint\u001b[0m\u001b[1;33m(\u001b[0m\u001b[0md_3\u001b[0m\u001b[1;33m[\u001b[0m\u001b[1;34m\"0\"\u001b[0m\u001b[1;33m]\u001b[0m\u001b[1;33m)\u001b[0m\u001b[1;33m\u001b[0m\u001b[1;33m\u001b[0m\u001b[0m\n",
      "\u001b[1;31mKeyError\u001b[0m: 'Jerry'"
     ]
    }
   ],
   "source": [
    "#dict = [key] - this will give back the value\n",
    "print(d_3[\"Tom\"])\n",
    "print(d_3[\"Jerry\"])\n",
    "print(d_3[\"0\"])\n"
   ]
  },
  {
   "cell_type": "code",
   "execution_count": 12,
   "metadata": {},
   "outputs": [
    {
     "name": "stdout",
     "output_type": "stream",
     "text": [
      "Batman\n"
     ]
    }
   ],
   "source": [
    "#example of none unique keys\n",
    "d_4 = {\n",
    "    \"name\": \"Mega Man\",\n",
    "    \"name\": \"Thor\",\n",
    "    \"name\": \"Batman\",\n",
    "}\n",
    "\n",
    "print(d_4['name'])"
   ]
  },
  {
   "cell_type": "markdown",
   "metadata": {},
   "source": [
    "## In-Class Exercise #1 - Print a formatted statement from the dictionary below <br>\n",
    "<p>The output should be '2018 Chevrolet Silverado'</p>"
   ]
  },
  {
   "cell_type": "code",
   "execution_count": 16,
   "metadata": {},
   "outputs": [
    {
     "name": "stdout",
     "output_type": "stream",
     "text": [
      "Chevrolet Silverado\n"
     ]
    }
   ],
   "source": [
    "# use the dict below\n",
    "truck = {\n",
    "    \"year\": 2018,\n",
    "    \"make\": 'Chevrolet',\n",
    "    \"model\": 'Silverado'\n",
    "}\n",
    "\n",
    "print(truck['make'], truck['model'])"
   ]
  },
  {
   "cell_type": "code",
   "execution_count": null,
   "metadata": {},
   "outputs": [],
   "source": []
  },
  {
   "cell_type": "code",
   "execution_count": null,
   "metadata": {},
   "outputs": [],
   "source": []
  },
  {
   "cell_type": "markdown",
   "metadata": {},
   "source": [
    "##### Adding New Pairs"
   ]
  },
  {
   "cell_type": "code",
   "execution_count": 17,
   "metadata": {},
   "outputs": [
    {
     "ename": "SyntaxError",
     "evalue": "cannot assign to literal (2821228880.py, line 8)",
     "output_type": "error",
     "traceback": [
      "\u001b[1;36m  File \u001b[1;32m\"C:\\Users\\arist\\AppData\\Local\\Temp\\ipykernel_20708\\2821228880.py\"\u001b[1;36m, line \u001b[1;32m8\u001b[0m\n\u001b[1;33m    d_3 = [\"Spike\"] = \"257 main st\"\u001b[0m\n\u001b[1;37m           ^\u001b[0m\n\u001b[1;31mSyntaxError\u001b[0m\u001b[1;31m:\u001b[0m cannot assign to literal\n"
     ]
    }
   ],
   "source": [
    "#dict[key] = value\n",
    "d_3 = {\n",
    "    \"Tom\":\"255 main st\",\n",
    "        0: \"This is zero\"\n",
    "    \n",
    "}\n",
    "\n",
    "d_3 = [\"Spike\"] = \"257 main st\"\n",
    "d_3 = [\"Tike\"] = \"257 main st\"\n",
    "\n",
    "print(d_3)"
   ]
  },
  {
   "cell_type": "markdown",
   "metadata": {},
   "source": [
    "##### Modifying Values"
   ]
  },
  {
   "cell_type": "code",
   "execution_count": 19,
   "metadata": {},
   "outputs": [
    {
     "name": "stdout",
     "output_type": "stream",
     "text": [
      "{'name': 'Batman', 'beverage': ['coffee']}\n",
      "{'name': 'Batman', 'beverage': ['coffee']}\n",
      "{'name': 'Batman', 'beverage': ['coffee'], 'beverage2': 'Lacrois'}\n"
     ]
    }
   ],
   "source": [
    "#dict[key] = \"new value\" if key already exist in dictionary\n",
    "print(d_4)\n",
    "d_4['beverage'] = ['coffee']\n",
    "print(d_4)\n",
    "\n",
    "drink = \"Lacrois\"\n",
    "\n",
    "if drink not in d_4:\n",
    "    d_4['beverage2'] = drink\n",
    "else:\n",
    "    d_4['beverage2'] = 'topo chico'\n",
    "print(d_4)"
   ]
  },
  {
   "cell_type": "code",
   "execution_count": null,
   "metadata": {},
   "outputs": [],
   "source": []
  },
  {
   "cell_type": "markdown",
   "metadata": {},
   "source": [
    "##### Removing Key, Value Pairs"
   ]
  },
  {
   "cell_type": "code",
   "execution_count": 22,
   "metadata": {},
   "outputs": [
    {
     "name": "stdout",
     "output_type": "stream",
     "text": [
      "{'Tom': '255 main st', 0: 'This is zero'}\n",
      "{'Tom': '255 main st', 'Jerry': '255 main st'}\n"
     ]
    }
   ],
   "source": [
    "#del dict[key]:\n",
    "#del (my_list[0]) or del dict[key] or del my_list[0]\n",
    "\n",
    "print(d_3)\n",
    "d_3[\"Jerry\"] = \"255 main st\"\n",
    "\n",
    "del d_3[0]\n",
    "\n",
    "print(d_3)"
   ]
  },
  {
   "cell_type": "markdown",
   "metadata": {},
   "source": [
    "##### Looping a Dictionary"
   ]
  },
  {
   "cell_type": "code",
   "execution_count": 24,
   "metadata": {},
   "outputs": [
    {
     "name": "stdout",
     "output_type": "stream",
     "text": [
      "Tom live at this address: 255 main st\n",
      "Spike live at this address: 255 main st\n"
     ]
    }
   ],
   "source": [
    "#dict.items()\n",
    "d_3 = {\n",
    "    \"Tom\": \"255 main st\",\n",
    "    \"Spike\": \"255 main st\",\n",
    "}\n",
    "\n",
    "for k, v in d_3.items():\n",
    "    print(f\"{k} live at this address: {v}\")"
   ]
  },
  {
   "cell_type": "markdown",
   "metadata": {},
   "source": [
    "##### Looping Only Keys"
   ]
  },
  {
   "cell_type": "code",
   "execution_count": 25,
   "metadata": {},
   "outputs": [
    {
     "name": "stdout",
     "output_type": "stream",
     "text": [
      "Tom\n",
      "Spike\n",
      "\n",
      "\n",
      "Tom\n",
      "Spike\n"
     ]
    }
   ],
   "source": [
    "#dict.keys()\n",
    "d_3 = { \n",
    "    \"Tom\": \"255 main st\",\n",
    "    \"Spike\": \"255 main st\",\n",
    "}\n",
    "\n",
    "for key in d_3:\n",
    "    print(key)\n",
    "print(\"\\n\")\n",
    "for name in d_3.keys():\n",
    "    print(name)"
   ]
  },
  {
   "cell_type": "markdown",
   "metadata": {},
   "source": [
    "##### Looping Only Values"
   ]
  },
  {
   "cell_type": "code",
   "execution_count": 26,
   "metadata": {
    "scrolled": true
   },
   "outputs": [
    {
     "name": "stdout",
     "output_type": "stream",
     "text": [
      "255 main st\n",
      "255 main st\n",
      "Tom lives here\n",
      "Tom lives here\n"
     ]
    }
   ],
   "source": [
    "#dict.values()\n",
    "d_3 = { \n",
    "    \"Tom\": \"255 main st\",\n",
    "    \"Spike\": \"255 main st\",\n",
    "}\n",
    "\n",
    "for address in d_3.values():\n",
    "    print(address)\n",
    "    \n",
    "for adress in d_3.values():\n",
    "    if address == \"255 main st\":\n",
    "        print(\"Tom lives here\")"
   ]
  },
  {
   "cell_type": "markdown",
   "metadata": {},
   "source": [
    "## In-Class Exercise #2 - Create a Function that Prints All Key Value Pairs within a formatted string  <br>\n",
    "<p><b>Output should be:</b><br>\n",
    "Max has blue eyes<br>\n",
    "Lilly has brown eyes<br>\n",
    "Barney has blue eyes<br>\n",
    "etc.\n",
    "</p>"
   ]
  },
  {
   "cell_type": "code",
   "execution_count": 28,
   "metadata": {},
   "outputs": [
    {
     "name": "stdout",
     "output_type": "stream",
     "text": [
      "{'Max': 'blue', 'Lilly': 'brown', 'Barney': 'green', 'Ted': 'purple', 'Sasuke': 'sharingan'}\n",
      "{'Max': 'blue', 'Lilly': 'brown', 'Barney': 'green', 'Ted': 'purple', 'Sasuke': 'sharingan'}\n",
      "{'Max': 'blue', 'Lilly': 'brown', 'Barney': 'green', 'Ted': 'purple', 'Sasuke': 'sharingan'}\n",
      "{'Max': 'blue', 'Lilly': 'brown', 'Barney': 'green', 'Ted': 'purple', 'Sasuke': 'sharingan'}\n",
      "{'Max': 'blue', 'Lilly': 'brown', 'Barney': 'green', 'Ted': 'purple', 'Sasuke': 'sharingan'}\n"
     ]
    }
   ],
   "source": [
    "# use the dict below\n",
    "people = {\n",
    "    'Max' : 'blue',\n",
    "    'Lilly' : 'brown',\n",
    "    'Barney' : 'green',\n",
    "    'Ted' : 'purple',\n",
    "    'Sasuke' : 'sharingan'    \n",
    "}\n",
    "\n",
    "for eyes in people.values():\n",
    "    print(people)\n",
    "for eyes in people.values():\n",
    "    if people == 'blue':\n",
    "        print('That is an ugly color')"
   ]
  },
  {
   "cell_type": "code",
   "execution_count": null,
   "metadata": {},
   "outputs": [],
   "source": []
  },
  {
   "cell_type": "code",
   "execution_count": null,
   "metadata": {},
   "outputs": [],
   "source": []
  },
  {
   "cell_type": "code",
   "execution_count": null,
   "metadata": {},
   "outputs": [],
   "source": []
  },
  {
   "cell_type": "markdown",
   "metadata": {},
   "source": [
    "##### sorted()"
   ]
  },
  {
   "cell_type": "code",
   "execution_count": 31,
   "metadata": {},
   "outputs": [
    {
     "name": "stdout",
     "output_type": "stream",
     "text": [
      "values ['blue', 'brown', 'green', 'purple', 'sharingan']\n",
      "keys ['Barney', 'Lilly', 'Max', 'Sasuke', 'Ted']\n",
      "[('Barney', 'green'), ('Lilly', 'brown'), ('Max', 'blue'), ('Sasuke', 'sharingan'), ('Ted', 'purple')]\n",
      "green\n"
     ]
    }
   ],
   "source": [
    "#if we wrap dictionary with sorted() it returns a list of tuples sorted by key\n",
    "\n",
    "people = {\n",
    "      'Max' : 'blue',\n",
    "    'Lilly' : 'brown',\n",
    "    'Barney' : 'green',\n",
    "    'Ted' : 'purple',\n",
    "    'Sasuke' : 'sharingan'\n",
    "}\n",
    "\n",
    "print(\"values\", sorted(people.values()))\n",
    "print(\"keys\", sorted(people.keys()))\n",
    "\n",
    "sorted_items = sorted(people.items())\n",
    "print(sorted_items)\n",
    "\n",
    "#indexing into a list with iterables inside of it\n",
    "print(sorted_items[0][1])"
   ]
  },
  {
   "cell_type": "markdown",
   "metadata": {},
   "source": [
    "##### List with Dictionaries"
   ]
  },
  {
   "cell_type": "code",
   "execution_count": 36,
   "metadata": {},
   "outputs": [
    {
     "name": "stdout",
     "output_type": "stream",
     "text": [
      "Milo\n"
     ]
    },
    {
     "ename": "TypeError",
     "evalue": "string indices must be integers",
     "output_type": "error",
     "traceback": [
      "\u001b[1;31m---------------------------------------------------------------------------\u001b[0m",
      "\u001b[1;31mTypeError\u001b[0m                                 Traceback (most recent call last)",
      "\u001b[1;32m~\\AppData\\Local\\Temp\\ipykernel_20708\\3693017938.py\u001b[0m in \u001b[0;36m<module>\u001b[1;34m\u001b[0m\n\u001b[0;32m      3\u001b[0m \u001b[1;33m\u001b[0m\u001b[0m\n\u001b[0;32m      4\u001b[0m \u001b[0mprint\u001b[0m\u001b[1;33m(\u001b[0m\u001b[0mshinobi\u001b[0m\u001b[1;33m[\u001b[0m\u001b[1;36m1\u001b[0m\u001b[1;33m]\u001b[0m\u001b[1;33m)\u001b[0m\u001b[1;33m\u001b[0m\u001b[1;33m\u001b[0m\u001b[0m\n\u001b[1;32m----> 5\u001b[1;33m \u001b[0mprint\u001b[0m\u001b[1;33m(\u001b[0m\u001b[0mshinobi\u001b[0m\u001b[1;33m[\u001b[0m\u001b[1;36m3\u001b[0m\u001b[1;33m]\u001b[0m\u001b[1;33m[\u001b[0m\u001b[1;34m\"leaf_village\"\u001b[0m\u001b[1;33m]\u001b[0m\u001b[1;33m)\u001b[0m\u001b[1;33m\u001b[0m\u001b[1;33m\u001b[0m\u001b[0m\n\u001b[0m\u001b[0;32m      6\u001b[0m \u001b[0mprint\u001b[0m\u001b[1;33m(\u001b[0m\u001b[0mshinobi\u001b[0m\u001b[1;33m[\u001b[0m\u001b[1;36m3\u001b[0m\u001b[1;33m]\u001b[0m\u001b[1;33m)\u001b[0m\u001b[1;33m\u001b[0m\u001b[1;33m\u001b[0m\u001b[0m\n\u001b[0;32m      7\u001b[0m \u001b[0mprint\u001b[0m\u001b[1;33m(\u001b[0m\u001b[0mshinobi\u001b[0m\u001b[1;33m[\u001b[0m\u001b[1;33m-\u001b[0m\u001b[1;36m1\u001b[0m\u001b[1;33m]\u001b[0m\u001b[1;33m)\u001b[0m\u001b[1;33m\u001b[0m\u001b[1;33m\u001b[0m\u001b[0m\n",
      "\u001b[1;31mTypeError\u001b[0m: string indices must be integers"
     ]
    }
   ],
   "source": [
    "shinobi = [\"Cat\", \"Milo\", \"Cumi\", \"Domo\", {\"leaf_vilage\": \"Acey\", \"leaf_village\": \"Abey\"}]\n",
    "\n",
    "\n",
    "print(shinobi[1])\n",
    "print(shinobi[3][\"leaf_village\"])\n",
    "print(shinobi[3])\n",
    "print(shinobi[-1])"
   ]
  },
  {
   "cell_type": "code",
   "execution_count": 38,
   "metadata": {},
   "outputs": [
    {
     "name": "stdout",
     "output_type": "stream",
     "text": [
      "['Dave', 'Sandy', {'random_person1': 'Woody', 'random_person2': 'Trong'}, 'Tom']\n"
     ]
    },
    {
     "ename": "TypeError",
     "evalue": "string indices must be integers",
     "output_type": "error",
     "traceback": [
      "\u001b[1;31m---------------------------------------------------------------------------\u001b[0m",
      "\u001b[1;31mTypeError\u001b[0m                                 Traceback (most recent call last)",
      "\u001b[1;32m~\\AppData\\Local\\Temp\\ipykernel_20708\\1275027625.py\u001b[0m in \u001b[0;36m<module>\u001b[1;34m\u001b[0m\n\u001b[0;32m      1\u001b[0m \u001b[0mnames\u001b[0m \u001b[1;33m=\u001b[0m \u001b[1;33m[\u001b[0m\u001b[1;34m\"Dave\"\u001b[0m\u001b[1;33m,\u001b[0m \u001b[1;34m\"Sandy\"\u001b[0m\u001b[1;33m,\u001b[0m \u001b[1;33m{\u001b[0m\u001b[1;34m\"random_person1\"\u001b[0m\u001b[1;33m:\u001b[0m \u001b[1;34m\"Woody\"\u001b[0m\u001b[1;33m,\u001b[0m \u001b[1;34m\"random_person2\"\u001b[0m\u001b[1;33m:\u001b[0m \u001b[1;34m\"Trong\"\u001b[0m\u001b[1;33m}\u001b[0m\u001b[1;33m,\u001b[0m \u001b[1;34m\"Tom\"\u001b[0m\u001b[1;33m]\u001b[0m\u001b[1;33m\u001b[0m\u001b[1;33m\u001b[0m\u001b[0m\n\u001b[0;32m      2\u001b[0m \u001b[0mprint\u001b[0m\u001b[1;33m(\u001b[0m\u001b[0mnames\u001b[0m\u001b[1;33m)\u001b[0m\u001b[1;33m\u001b[0m\u001b[1;33m\u001b[0m\u001b[0m\n\u001b[1;32m----> 3\u001b[1;33m \u001b[0mprint\u001b[0m\u001b[1;33m(\u001b[0m\u001b[0mnames\u001b[0m\u001b[1;33m[\u001b[0m\u001b[1;36m3\u001b[0m\u001b[1;33m]\u001b[0m\u001b[1;33m[\u001b[0m\u001b[1;34m\"random_person1\"\u001b[0m\u001b[1;33m]\u001b[0m\u001b[1;33m)\u001b[0m\u001b[1;33m\u001b[0m\u001b[1;33m\u001b[0m\u001b[0m\n\u001b[0m",
      "\u001b[1;31mTypeError\u001b[0m: string indices must be integers"
     ]
    }
   ],
   "source": [
    "names = [\"Dave\", \"Sandy\", {\"random_person1\": \"Woody\", \"random_person2\": \"Trong\"}, \"Tom\"]\n",
    "print(names)\n",
    "print(names[3][\"random_person1\"])"
   ]
  },
  {
   "cell_type": "markdown",
   "metadata": {},
   "source": [
    "##### Dictionaries with Lists"
   ]
  },
  {
   "cell_type": "code",
   "execution_count": 40,
   "metadata": {},
   "outputs": [
    {
     "ename": "SyntaxError",
     "evalue": "invalid syntax (1995227514.py, line 3)",
     "output_type": "error",
     "traceback": [
      "\u001b[1;36m  File \u001b[1;32m\"C:\\Users\\arist\\AppData\\Local\\Temp\\ipykernel_20708\\1995227514.py\"\u001b[1;36m, line \u001b[1;32m3\u001b[0m\n\u001b[1;33m    \"names\": [\"John\", \"Laura\", \"Meech\"],\u001b[0m\n\u001b[1;37m    ^\u001b[0m\n\u001b[1;31mSyntaxError\u001b[0m\u001b[1;31m:\u001b[0m invalid syntax\n"
     ]
    }
   ],
   "source": [
    "random_data = {\n",
    "    \"list_1\": [54, 50, 23]\n",
    "    \"names\": [\"John\", \"Laura\", \"Meech\"],\n",
    "    1: [1, 1, 1, 1]\n",
    "}\n",
    "\n",
    "print(random_data[1][1])\n",
    "print(random_data[\"list_1\"][2])"
   ]
  },
  {
   "cell_type": "code",
   "execution_count": 41,
   "metadata": {},
   "outputs": [
    {
     "name": "stdout",
     "output_type": "stream",
     "text": [
      "transform\n"
     ]
    }
   ],
   "source": [
    "ditto = {\n",
    "    \"abilities\": [{\"name\": \"transform\"}, {\"name\": \"another transform\"}]\n",
    "}\n",
    "print(ditto[\"abilities\"][0][\"name\"])"
   ]
  },
  {
   "cell_type": "markdown",
   "metadata": {},
   "source": [
    "##### Dictionaries with Dictionaries"
   ]
  },
  {
   "cell_type": "code",
   "execution_count": 44,
   "metadata": {
    "scrolled": true
   },
   "outputs": [
    {
     "name": "stdout",
     "output_type": "stream",
     "text": [
      "{'Ryan': {'Mexican': ['Tacos', 'Tortas', 'Burritos'], 'Desserts': ['Pie', 'Brownies', 'Chocolate Chip Cookies']}, 'Alex': {'Hispanic': ['Pupusas', 'Tacos', 'Fajitas'], 'Sweets': ['Pastries', 'Ice Cream', 'Canollis'], 'More Sweets': ['Cheesecake', 'Chantilly Cupcakes', 'Cobbler', 'Pie']}, 'Ethan': {'Rock': ['KGLW', 'Uncle Spudd', 'Your moms house'], 'Rap': ['MF DOOM', 'Kendrick', 'Andrae 3000']}, 'Enoch': {'Japanese': ['Sushi', 'Tempura', 'Onigiri'], 'Desserts': ['Cheesecake', 'Applie Pie', 'Yuzu Creme Brulee']}, 'Htae': {'Ramen': ['Miso', 'Shoyu', 'Shin'], 'Drinks': ['Dr.Pepper', 'Water', 'Boba tea']}, 'Dez': {'Asian': ['Sushi', 'Ramen', 'Pho', 'Curry'], 'Doughnt_shops': ['Sidecar', \"Sk's\", 'Doughnuttery']}, 'Dharti': {'Indian': ['Paneer', 'Rajma', 'Naan'], 'Sweet': ['Jalabi', 'Mohanthal', 'icecream']}, 'Lyle': {'nike': ['airmax', 'jordan', 'cortez'], 'adidas': ['stansmiths', 'promodel', 'nmd']}, 'Daniel': {'Afri': ['garri', 'fufu', 'egusi'], 'easyfood': ['rice', 'beans', 'eba']}, 'Chuck': {'American': ['Cheese_Burger', 'Fries', 'Coke'], 'Desserts': ['Cheese_Cake', 'Milk_Shake', 'Cake']}, 'Ben': {'Indian': ['Tika Masala', 'Naan', 'Chapati', 'Chicken Curry', 'Fish Curry'], 'Desserts': ['Cheesecake', 'Empanadas', 'Churros', 'Ice Cream', 'Mangonada']}, 'Ewa': {'Italian': {'Pizza': ['Margherita', 'Pepperoni', 'Capricciosa'], 'Pasta': ['Spaghetti Bolognese', 'Carbonara', 'Pesto'], 'Dessert': ['Tiramisu', 'Panna Cotta', 'Cannoli']}, 'Mexican': {'Tacos': ['Al Pastor', 'Carnitas', 'Barbacoa'], 'Burritos': ['Bean and Cheese', 'Carne Asada', 'Chicken'], 'Dessert': ['Churros', 'Flan', 'Sopapillas']}}, 'Salim': {'turkish': ['lent soup , kebaba , Gyro '], 'Dessert ': ['Baklava, basbousa ,maamoul']}}\n"
     ]
    }
   ],
   "source": [
    "food_dict = {\n",
    "    \"Ryan\": {\n",
    "        \"Mexican\": [\"Tacos\", \"Tortas\", \"Burritos\"],\n",
    "        \"Desserts\": ['Pie', \"Brownies\", \"Chocolate Chip Cookies\"]\n",
    "    },\n",
    "    \"Alex\": {\n",
    "        \"Hispanic\": ['Pupusas', 'Tacos', 'Fajitas'],\n",
    "        \"Sweets\": ['Pastries', 'Ice Cream', 'Canollis'],\n",
    "        \"More Sweets\" : ['Cheesecake', 'Chantilly Cupcakes', 'Cobbler', 'Pie']\n",
    "    },\n",
    "     \"Ethan\": {\n",
    "        \"Rock\": ['KGLW', 'Uncle Spudd', 'Your moms house'], \n",
    "        'Rap': ['MF DOOM', 'Kendrick', 'Andrae 3000']\n",
    "    },\n",
    "    \"Enoch\": {\n",
    "        \"Japanese\":[\"Sushi\", \"Tempura\", \"Onigiri\"],\n",
    "        \"Desserts\":[\"Cheesecake\", \"Applie Pie\", \"Yuzu Creme Brulee\"]\n",
    "    },\n",
    "    \"Htae\": {\n",
    "        \"Ramen\": [\"Miso\", \"Shoyu\", \"Shin\"],\n",
    "        \"Drinks\": [\"Dr.Pepper\", \"Water\", \"Boba tea\"]\n",
    "    },\n",
    "    \"Dez\": {\n",
    "        \"Asian\":[\"Sushi\", \"Ramen\", \"Pho\", \"Curry\"],\n",
    "        \"Doughnt_shops\": [\"Sidecar\",\"Sk's\", \"Doughnuttery\"]\n",
    "    },\n",
    "    \"Dharti\": {\n",
    "        \"Indian\": [\"Paneer\",\"Rajma\",\"Naan\"],\n",
    "        \"Sweet\": [\"Jalabi\",\"Mohanthal\",\"icecream\"]\n",
    "    },\n",
    "      \"Lyle\": {\n",
    "        'nike': ['airmax', 'jordan', 'cortez'],\n",
    "        'adidas': ['stansmiths', 'promodel', 'nmd']\n",
    "    },\n",
    "    'Daniel' :{\n",
    "    'Afri':['garri', 'fufu', 'egusi'],\n",
    "    'easyfood':['rice', 'beans', 'eba']\n",
    "    },\n",
    "    \"Chuck\": {\n",
    "       \"American\" : ['Cheese_Burger', 'Fries', 'Coke'],\n",
    "       \"Desserts\" : ['Cheese_Cake', 'Milk_Shake', 'Cake'],\n",
    "    },\n",
    "    \"Ben\": {\n",
    "    \"Indian\": [\"Tika Masala\", \"Naan\", \"Chapati\", \"Chicken Curry\", \"Fish Curry\",],\n",
    "    \"Desserts\": [\"Cheesecake\", \"Empanadas\", \"Churros\", \"Ice Cream\", \"Mangonada\"],\n",
    "    },\n",
    "    'Ewa': {\n",
    "    'Italian': {\n",
    "        'Pizza': ['Margherita', 'Pepperoni', 'Capricciosa'],\n",
    "        'Pasta': ['Spaghetti Bolognese', 'Carbonara', 'Pesto'],\n",
    "        'Dessert': ['Tiramisu', 'Panna Cotta', 'Cannoli']\n",
    "    },\n",
    "    \n",
    "    'Mexican': {\n",
    "        'Tacos': ['Al Pastor', 'Carnitas', 'Barbacoa'],\n",
    "        'Burritos': ['Bean and Cheese', 'Carne Asada', 'Chicken'],\n",
    "        'Dessert': ['Churros', 'Flan', 'Sopapillas']\n",
    "    }},\n",
    "     \"Salim\" : {\n",
    "        \"turkish\" :[\"lent soup , kebaba , Gyro \"],\n",
    "        \"Dessert \" :[\"Baklava, basbousa ,maamoul\"]\n",
    "    }\n",
    "    \n",
    "    \n",
    "}\n",
    "\n",
    "print(food_dict)"
   ]
  },
  {
   "cell_type": "code",
   "execution_count": null,
   "metadata": {},
   "outputs": [],
   "source": []
  },
  {
   "cell_type": "code",
   "execution_count": null,
   "metadata": {},
   "outputs": [],
   "source": []
  },
  {
   "cell_type": "code",
   "execution_count": null,
   "metadata": {},
   "outputs": [],
   "source": []
  },
  {
   "cell_type": "code",
   "execution_count": null,
   "metadata": {},
   "outputs": [],
   "source": []
  },
  {
   "cell_type": "markdown",
   "metadata": {},
   "source": [
    "## Dictionaries vs. Lists (over time) Example of RUNTIME\n",
    "### When inputting values in a Dictionary vs List"
   ]
  },
  {
   "cell_type": "code",
   "execution_count": 47,
   "metadata": {},
   "outputs": [],
   "source": [
    "import time\n",
    "#generate dictionary\n",
    "d = {}\n",
    "for i in range (10000):\n",
    "    d[i] = \"value \" + str(i)\n",
    "    \n",
    "#genwrate a list\n",
    "big_list = [x for x in range(10000)]"
   ]
  },
  {
   "cell_type": "code",
   "execution_count": null,
   "metadata": {},
   "outputs": [],
   "source": [
    "#track time for the dictionary\n",
    "start_time = time.time()\n",
    "\n",
    "print(d[90000])\n",
    "\n",
    "end_time = time.time() - start_time\n",
    "print(f\"elapsed time for dictionary: {end_time}\")\n",
    "\n",
    "#trcking time for the list\n",
    "start_time = time.time()\n",
    "\n",
    "for i in range(len)"
   ]
  },
  {
   "cell_type": "markdown",
   "metadata": {},
   "source": [
    "## Exercise #3 - Write a Function that asks someone's name and address, and then stores that into a dictionary, and continues to do so until they choose to 'quit'. Once they quit, the program should print all names and addresses. <br>\n",
    "<p>\n",
    "<b>Proper steps:</b><br>\n",
    "step 1: write a function that takes in information and stores it in a dictionary<br>\n",
    "step 2: define an empty dictionary to work with<br>\n",
    "step 3: create our loop, which asks the user for information until they quit<br>\n",
    "step 4: ask for the information, and store it into variables<br>\n",
    "step 5: check if the user types quit<br>\n",
    "step 5a: print out all information<br>\n",
    "step 5b: break out of the loop<br>\n",
    "step 6: if they didn't quit, add the information to the dictionary<br>\n",
    "step 7: invoke the function by calling it\n",
    "</p>"
   ]
  },
  {
   "cell_type": "code",
   "execution_count": 51,
   "metadata": {},
   "outputs": [
    {
     "name": "stdout",
     "output_type": "stream",
     "text": [
      "Enter a name or say 'quit' to quit: quit\n"
     ]
    }
   ],
   "source": [
    "# step 2:\n",
    "info = {}\n",
    "\n",
    "#step 3\n",
    "while True:\n",
    "    #step 4\n",
    "    name = input(\"Enter a name or say 'quit' to quit: \")\n",
    "    if name.lower().strip() != 'quit':\n",
    "        address = input(\"Enter an address or say 'quit' to quit\")\n",
    "        \n",
    "    # step 5\n",
    "    if name.lower().strip() == 'quit' or address.lower().strip() == 'quit':\n",
    "        #step 5a\n",
    "        for key, value in info.items():\n",
    "            print(f\"The address for {key}, is {value}. Go visit them! But call first cause otherwise thats rude.\")\n",
    "        break\n",
    "    \n",
    "    info[name] = address"
   ]
  },
  {
   "cell_type": "markdown",
   "metadata": {},
   "source": [
    "## Set <br>\n",
    "<p>A Set is an unordered collection data type that is iterable (loop), mutable, and has no duplicate elements.<br>Major advantage is that it is highly optimized in checking if something is in the set, as opposed to checking if something is in a list.</p>"
   ]
  },
  {
   "cell_type": "markdown",
   "metadata": {},
   "source": [
    "##### Declaring"
   ]
  },
  {
   "cell_type": "code",
   "execution_count": 52,
   "metadata": {
    "scrolled": false
   },
   "outputs": [
    {
     "name": "stdout",
     "output_type": "stream",
     "text": [
      "{8, 1, 4}\n",
      "{1, 2, 9}\n",
      "[1, 2, 9]\n",
      "3\n"
     ]
    }
   ],
   "source": [
    "# set() or {}\n",
    "# {no order {3, 2, 1} might output as {2,3,1}}\n",
    "\n",
    "nums = {4, 1, 8, 4}\n",
    "print(nums)\n",
    "\n",
    "#one way to remove all duplicate from a list\n",
    "my_list = {1, 1, 1, 2, 2, 2, 9, 9, 9}\n",
    "\n",
    "my_set = set(my_list)\n",
    "print(my_set)\n",
    "\n",
    "my_list = list(my_set)\n",
    "print(my_list)\n",
    "\n",
    "#we cant index because sets are unordered\n",
    "#my_set[0]\n",
    "print(len(my_set))"
   ]
  },
  {
   "cell_type": "code",
   "execution_count": null,
   "metadata": {
    "scrolled": true
   },
   "outputs": [],
   "source": []
  },
  {
   "cell_type": "code",
   "execution_count": null,
   "metadata": {},
   "outputs": [],
   "source": []
  },
  {
   "cell_type": "markdown",
   "metadata": {},
   "source": [
    "##### .add()"
   ]
  },
  {
   "cell_type": "code",
   "execution_count": 53,
   "metadata": {},
   "outputs": [
    {
     "name": "stdout",
     "output_type": "stream",
     "text": [
      "{2, 4, 5, 6, 7}\n",
      "{2, 4, 5, 6, 7, 22}\n",
      "{2, 4, 5, 6, 7, 22, 'Hello'}\n",
      "{2, 4, 5, 6, 7, 22, 'Hello'}\n"
     ]
    }
   ],
   "source": [
    "#set.add()\n",
    "\n",
    "my_set = {2, 5, 4, 6, 7}\n",
    "print(my_set)\n",
    "my_set.add(22)\n",
    "print(my_set)\n",
    "\n",
    "my_set.add('Hello')\n",
    "print(my_set)\n",
    "\n",
    "my_set.add(2)\n",
    "\n",
    "print(my_set)"
   ]
  },
  {
   "cell_type": "markdown",
   "metadata": {},
   "source": [
    "##### .remove()"
   ]
  },
  {
   "cell_type": "code",
   "execution_count": 55,
   "metadata": {},
   "outputs": [
    {
     "name": "stdout",
     "output_type": "stream",
     "text": [
      "{4, 5, 7}\n",
      "{4, 5}\n"
     ]
    }
   ],
   "source": [
    "#my_set.remove(value)\n",
    "\n",
    "my_set = {2, 5, 4, 7}\n",
    "\n",
    "my_set.remove(2)\n",
    "print(my_set)\n",
    "\n",
    "my_set.remove(7)\n",
    "print(my_set)"
   ]
  },
  {
   "cell_type": "markdown",
   "metadata": {},
   "source": [
    "##### .union() "
   ]
  },
  {
   "cell_type": "code",
   "execution_count": 56,
   "metadata": {},
   "outputs": [
    {
     "name": "stdout",
     "output_type": "stream",
     "text": [
      "{1, 2, 3, 4, 5, 8}\n",
      "{1, 2, 3, 4, 5, 8}\n"
     ]
    }
   ],
   "source": [
    "#union will combine two sets\n",
    "#can also | in place of .union()\n",
    "#my_set.union(my_set2)\n",
    "\n",
    "s1 = {1, 2, 4}\n",
    "s2 = {3, 5, 8}\n",
    "\n",
    "s3 = s1.union(s2)\n",
    "print(s3)\n",
    "\n",
    "# or \n",
    "\n",
    "s4 = s2 | s1\n",
    "print(s4)"
   ]
  },
  {
   "cell_type": "markdown",
   "metadata": {},
   "source": [
    "##### .intersection()"
   ]
  },
  {
   "cell_type": "code",
   "execution_count": 57,
   "metadata": {},
   "outputs": [
    {
     "name": "stdout",
     "output_type": "stream",
     "text": [
      "set()\n",
      "set()\n"
     ]
    }
   ],
   "source": [
    "# return an intersection of two sets, can also use &\n",
    "# only return the similar elements of both sets\n",
    "\n",
    "s1 = {1, 2, 4}\n",
    "s2 = {3, 5, 8}\n",
    "\n",
    "s3 = s2.intersection(s1)\n",
    "\n",
    "print(s3)\n",
    "\n",
    "#or\n",
    "\n",
    "s4 = s2 & s1\n",
    "print(s4)"
   ]
  },
  {
   "cell_type": "markdown",
   "metadata": {},
   "source": [
    "##### .difference()"
   ]
  },
  {
   "cell_type": "code",
   "execution_count": 58,
   "metadata": {},
   "outputs": [
    {
     "name": "stdout",
     "output_type": "stream",
     "text": [
      "{1, 2, 4}\n",
      "{8, 3, 5}\n"
     ]
    }
   ],
   "source": [
    "#return a set containing the elements of the invoking set that are not in the second set\n",
    "# can also use '_'\n",
    "#order matters\n",
    "\n",
    "s1 = {1, 2, 4}\n",
    "s2 = {3, 5, 8}\n",
    "\n",
    "s7 = s1 - s2\n",
    "print(s7)\n",
    "\n",
    "#or\n",
    "\n",
    "s8 = s2.difference(s1)\n",
    "print(s8)\n"
   ]
  },
  {
   "cell_type": "markdown",
   "metadata": {},
   "source": [
    "##### .clear()"
   ]
  },
  {
   "cell_type": "code",
   "execution_count": 59,
   "metadata": {},
   "outputs": [
    {
     "name": "stdout",
     "output_type": "stream",
     "text": [
      "{2, 3, 5}\n",
      "set()\n"
     ]
    }
   ],
   "source": [
    "#emtpy the whole set \n",
    "another_set = {2, 3, 5}\n",
    "print(another_set)\n",
    "\n",
    "another_set.clear()\n",
    "print(another_set)"
   ]
  },
  {
   "cell_type": "code",
   "execution_count": null,
   "metadata": {},
   "outputs": [],
   "source": []
  },
  {
   "cell_type": "markdown",
   "metadata": {},
   "source": [
    "##### Frozenset <br>\n",
    "<p>Frozen sets are immutable objects that only support methods and operators that produce a result without affecting the frozen set or sets to which they are applied.</p><br><b>Unique & Immutable</b>"
   ]
  },
  {
   "cell_type": "code",
   "execution_count": 61,
   "metadata": {},
   "outputs": [
    {
     "name": "stdout",
     "output_type": "stream",
     "text": [
      "{2, 3, 4, 'hello', 'my dog is neat'}\n",
      "{2, 3, 4, 'hello', 'my dog is neat'}\n",
      "{2, 3, 4, 'hello', 'my dog is neat'}\n",
      "{2, 3, 4, 'hello', 'Hello', 'my dog is neat'}\n",
      "frozenset({2, 3, 4, 'hello', 'Hello', 'my dog is neat'})\n"
     ]
    }
   ],
   "source": [
    "#frozenset()\n",
    "my_set = {2, 3, 4, 'hello', 'my dog is neat'}\n",
    "print(my_set)\n",
    "\n",
    "frozen_set = frozenset(my_set)\n",
    "print(my_set)\n",
    "\n",
    "#frozen_set.add(22)\n",
    "#frozen_set.remove('hello')\n",
    "\n",
    "my_new_set = set(frozen_set)\n",
    "print(my_new_set)\n",
    "\n",
    "my_new_set.add(\"Hello\")\n",
    "\n",
    "print(my_new_set)\n",
    "frozen_set = frozenset(my_new_set)\n",
    "print(frozen_set)"
   ]
  },
  {
   "cell_type": "markdown",
   "metadata": {},
   "source": [
    "# Exercises"
   ]
  },
  {
   "cell_type": "markdown",
   "metadata": {},
   "source": [
    "### 1) Build a Shopping Cart <br>\n",
    "<p><b>You can use either lists or dictionaries. The program should have the following capabilities:</b><br><br>\n",
    "1) Takes in input <br>\n",
    "2) Stores user input into a dictionary or list <br>\n",
    "3) The User can add or delete items <br>\n",
    "4) The User can see current shopping list <br>\n",
    "5) The program Loops until user 'quits' <br>\n",
    "6) Upon quiting the program, print out all items in the user's list <br>\n",
    "</p>"
   ]
  },
  {
   "cell_type": "code",
   "execution_count": 2,
   "metadata": {},
   "outputs": [
    {
     "ename": "IndentationError",
     "evalue": "unexpected indent (1464843595.py, line 18)",
     "output_type": "error",
     "traceback": [
      "\u001b[1;36m  File \u001b[1;32m\"C:\\Users\\arist\\AppData\\Local\\Temp\\ipykernel_3148\\1464843595.py\"\u001b[1;36m, line \u001b[1;32m18\u001b[0m\n\u001b[1;33m    clear_output()\u001b[0m\n\u001b[1;37m    ^\u001b[0m\n\u001b[1;31mIndentationError\u001b[0m\u001b[1;31m:\u001b[0m unexpected indent\n"
     ]
    }
   ],
   "source": [
    "from IPython.display import clear_output\n",
    "\n",
    "valid_commands = (\"show\",\"add\",\"delete\",\"quit\")\n",
    "userin = \"\"\n",
    "cart = dict()\n",
    "\n",
    "def show_cart():\n",
    "    if len(cart) <= 0:\n",
    "        print(\"Your cart is empty.\")\n",
    "    else:\n",
    "        print(\"Your Cart:\")\n",
    "        for item, quantity in cart.items():\n",
    "            print(f\"- {item} (x{quantity})\")\n",
    "\n",
    "# Ask the user four bits of input: Do you want to : Show/Add/Delete or Quit?\n",
    "while userin.lower() != \"quit\":\n",
    "    userin = input(\"Input one of the following commands: Show/Add/Delete/Quit > \")\n",
    "       clear_output()\n",
    "    \n",
    "    # invalid input\n",
    "    if userin.lower() not in valid_commands:\n",
    "        print(f\"'{userin}' is not a valid command. Please try again.\")\n",
    "        continue\n",
    "        \n",
    "    # show\n",
    "    if userin.lower() == \"show\":\n",
    "        show_cart()\n",
    "        continue\n",
    "        \n",
    "    # add\n",
    "    if userin.lower() == \"add\":\n",
    "        addin_item = input(\"Input the name of the item you would like to add to your cart (or type 'cancel' to go back) > \")\n",
    "        if addin_item.lower() == \"cancel\":\n",
    "            continue\n",
    "            \n",
    "        addin_quantity = \"\"\n",
    "        while True:\n",
    "            addin_quantity = input(\"Input the quantity of this item you would like to add > \")\n",
    "            try:\n",
    "                addin_quantity = int(addin_quantity)\n",
    "                break\n",
    "            except ValueError:\n",
    "                print(\"That is not a valid quantity. Please provide an integer value.\")\n",
    "                continue\n",
    "                \n",
    "                clear_output()\n",
    "        cart[addin_item] = addin_quantity\n",
    "        print(f\"Added {addin_quantity} {addin_item} to your cart.\")\n",
    "        continue\n",
    "\n",
    "# Ask the user four bits of input: Do you want to : Show/Add/Delete or Quit?\n"
   ]
  },
  {
   "cell_type": "markdown",
   "metadata": {},
   "source": [
    "### 2) Set Practice"
   ]
  },
  {
   "cell_type": "markdown",
   "metadata": {},
   "source": [
    "<p><b>Remove all duplicates from the following list</b></p>"
   ]
  },
  {
   "cell_type": "code",
   "execution_count": 3,
   "metadata": {},
   "outputs": [
    {
     "name": "stdout",
     "output_type": "stream",
     "text": [
      "{1, 2, 3, 4, 5, 6, 11, 12, 14, 16}\n",
      "{1, 2, 3, 4, 5, 6, 11, 12, 14, 16}\n"
     ]
    }
   ],
   "source": [
    "nums_list = [1, 1, 1, 2, 2, 3, 5, 6, 4, 12, 11, 12, 12, 14, 16, 16, 16, 1, 1, 1, 2, 2]\n",
    "\n",
    "my_set = set(nums_list)\n",
    "print(my_set)\n",
    "\n",
    "nums_list = set(my_set)\n",
    "print(nums_list)\n",
    "\n",
    "\n"
   ]
  },
  {
   "cell_type": "markdown",
   "metadata": {},
   "source": [
    "<p><b>Out put the intersection of the following the following sets.</b></p>"
   ]
  },
  {
   "cell_type": "code",
   "execution_count": null,
   "metadata": {},
   "outputs": [],
   "source": [
    "set1 = {20, 24, 26, 27}\n",
    "set2 = {26, 35, 63, 27}\n",
    "\n",
    "set3 = set1.union(s2)\n",
    "print(s3)"
   ]
  },
  {
   "cell_type": "markdown",
   "metadata": {},
   "source": [
    "<p><b>Output the difference between the following sets</b></p>"
   ]
  },
  {
   "cell_type": "code",
   "execution_count": 8,
   "metadata": {},
   "outputs": [
    {
     "name": "stdout",
     "output_type": "stream",
     "text": [
      "{200, 65, 54, 103}\n"
     ]
    }
   ],
   "source": [
    "set3 = {100, 65, 89, 200}\n",
    "set4 = {65, 103, 54, 200}\n",
    "\n",
    "s8 = set4.difference(set3)\n",
    "print(set4)"
   ]
  },
  {
   "cell_type": "code",
   "execution_count": null,
   "metadata": {},
   "outputs": [],
   "source": []
  }
 ],
 "metadata": {
  "kernelspec": {
   "display_name": "Python 3 (ipykernel)",
   "language": "python",
   "name": "python3"
  },
  "language_info": {
   "codemirror_mode": {
    "name": "ipython",
    "version": 3
   },
   "file_extension": ".py",
   "mimetype": "text/x-python",
   "name": "python",
   "nbconvert_exporter": "python",
   "pygments_lexer": "ipython3",
   "version": "3.9.13"
  }
 },
 "nbformat": 4,
 "nbformat_minor": 2
}
